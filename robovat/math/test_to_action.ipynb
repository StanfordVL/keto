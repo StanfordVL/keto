{
 "cells": [
  {
   "cell_type": "code",
   "execution_count": 1,
   "metadata": {},
   "outputs": [],
   "source": [
    "import numpy as np\n",
    "import tensorflow as tf\n",
    "\n",
    "from keypoints_to_action import to_action_push"
   ]
  },
  {
   "cell_type": "code",
   "execution_count": 2,
   "metadata": {},
   "outputs": [],
   "source": [
    "point_cloud_tf = tf.constant([[1, 1, 0], [1, 3, 0]], dtype=tf.float32)\n",
    "grasp_point = tf.constant([1, 1, 0], dtype=tf.float32)\n",
    "funct_point = tf.constant([1, 3, 0], dtype=tf.float32)\n",
    "funct_vect = tf.constant([1, 0, 0], dtype=tf.float32)\n",
    "target_pose = [0, 0, 0, np.pi/2]\n",
    "\n",
    "c_xy, g_rz = to_action_push(point_cloud_tf,\n",
    "                            [grasp_point, funct_point, funct_vect],\n",
    "                            target_pose=target_pose)\n",
    "\n",
    "with tf.Session() as sess:\n",
    "    c_xy_np, g_rz_np = sess.run([c_xy, g_rz])"
   ]
  }
 ],
 "metadata": {
  "kernelspec": {
   "display_name": "Python 3",
   "language": "python",
   "name": "python3"
  },
  "language_info": {
   "codemirror_mode": {
    "name": "ipython",
    "version": 3
   },
   "file_extension": ".py",
   "mimetype": "text/x-python",
   "name": "python",
   "nbconvert_exporter": "python",
   "pygments_lexer": "ipython3",
   "version": "3.6.8"
  }
 },
 "nbformat": 4,
 "nbformat_minor": 2
}
