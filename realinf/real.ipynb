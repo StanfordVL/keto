{
 "cells": [
  {
   "cell_type": "code",
   "execution_count": 1,
   "metadata": {},
   "outputs": [],
   "source": [
    "import numpy as np\n",
    "import tensorflow as tf\n",
    "import matplotlib.pyplot as plt\n",
    "from mpl_toolkits.mplot3d import Axes3D\n",
    "from sklearn.linear_model import RANSACRegressor"
   ]
  },
  {
   "cell_type": "code",
   "execution_count": 2,
   "metadata": {},
   "outputs": [],
   "source": [
    "depth = np.load(open('keto_images/keto_hammer_1_depth.npy', 'rb'))\n"
   ]
  },
  {
   "cell_type": "code",
   "execution_count": 3,
   "metadata": {},
   "outputs": [],
   "source": [
    "params = {'fx': 372.66, 'tx': 241.20, 'fy': 368.62, 'ty': 214.19}"
   ]
  },
  {
   "cell_type": "code",
   "execution_count": 4,
   "metadata": {},
   "outputs": [],
   "source": [
    "def depth_to_point_cloud(depth, params, z_min=0.00, z_max=0.20):\n",
    "    height, width = depth.shape\n",
    "    u = np.tile(np.arange(width).reshape([1, width]), [height, 1])\n",
    "    v = np.tile(np.arange(height).reshape([height, 1]), [1, width])\n",
    "    u = np.reshape(u, [height, width, 1])\n",
    "    v = np.reshape(v, [height, width, 1])\n",
    "    z = np.reshape(depth, [height, width, 1])\n",
    "    x = (u - params['tx']) * z / params['fx']\n",
    "    y = (v - params['ty']) * z / params['fy']\n",
    "    mask = np.logical_and(z > z_min, z < z_max).flatten()\n",
    "    point_cloud = np.concatenate([x, y, z], axis=2)\n",
    "    p = np.reshape(point_cloud, [-1, 3])[mask]\n",
    "    return p\n",
    "\n",
    "def segment_object(p, r=0.03, num_points=1024):\n",
    "    num_points = p.shape[0]\n",
    "    reg = RANSACRegressor().fit(p[:, :2], p[:, 2])\n",
    "    z_plane = reg.predict(p[:, :2])\n",
    "    mask = p[:, 2] < z_plane - 8e-4\n",
    "    mask = np.logical_and(mask, np.linalg.norm(p[:, :2], axis=1) < r)\n",
    "    p_obj = p[mask]\n",
    "    p_obj = p_obj - np.mean(p_obj, axis=0, keepdims=True)\n",
    "    indices = np.random.randint(p_obj.shape[0], size=num_points)\n",
    "    p_obj = p_obj[indices]\n",
    "    return p_obj\n"
   ]
  },
  {
   "cell_type": "code",
   "execution_count": 5,
   "metadata": {},
   "outputs": [],
   "source": [
    "point_cloud = depth_to_point_cloud(depth, params)\n",
    "point_cloud = segment_object(point_cloud)"
   ]
  },
  {
   "cell_type": "code",
   "execution_count": 6,
   "metadata": {},
   "outputs": [
    {
     "data": {
      "text/plain": [
       "<mpl_toolkits.mplot3d.art3d.Path3DCollection at 0x7eff016b5358>"
      ]
     },
     "execution_count": 6,
     "metadata": {},
     "output_type": "execute_result"
    },
    {
     "data": {
      "image/png": "[encoded data removed]",
      "text/plain": [
       "<Figure size 432x288 with 1 Axes>"
      ]
     },
     "metadata": {
      "needs_background": "light"
     },
     "output_type": "display_data"
    }
   ],
   "source": [
    "fig = plt.figure()\n",
    "ax = fig.add_subplot(111, projection='3d')\n",
    "ax.view_init(90, 0)\n",
    "ax.scatter(point_cloud[:, 0] * 20, point_cloud[:, 1] * 20, point_cloud[:, 2] * 20, s=0.1)"
   ]
  },
  {
   "cell_type": "code",
   "execution_count": null,
   "metadata": {},
   "outputs": [],
   "source": [
    "plt.imshow(depth)"
   ]
  },
  {
   "cell_type": "code",
   "execution_count": null,
   "metadata": {},
   "outputs": [],
   "source": []
  }
 ],
 "metadata": {
  "kernelspec": {
   "display_name": "Python 3",
   "language": "python",
   "name": "python3"
  },
  "language_info": {
   "codemirror_mode": {
    "name": "ipython",
    "version": 3
   },
   "file_extension": ".py",
   "mimetype": "text/x-python",
   "name": "python",
   "nbconvert_exporter": "python",
   "pygments_lexer": "ipython3",
   "version": "3.6.8"
  }
 },
 "nbformat": 4,
 "nbformat_minor": 2
}
